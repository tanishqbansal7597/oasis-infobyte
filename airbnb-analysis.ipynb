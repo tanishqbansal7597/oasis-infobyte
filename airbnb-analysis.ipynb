{
 "cells": [
  {
   "cell_type": "code",
   "execution_count": 1,
   "id": "99548404",
   "metadata": {
    "_cell_guid": "b1076dfc-b9ad-4769-8c92-a6c4dae69d19",
    "_uuid": "8f2839f25d086af736a60e9eeb907d3b93b6e0e5",
    "execution": {
     "iopub.execute_input": "2024-08-10T18:16:50.241325Z",
     "iopub.status.busy": "2024-08-10T18:16:50.240314Z",
     "iopub.status.idle": "2024-08-10T18:16:51.311792Z",
     "shell.execute_reply": "2024-08-10T18:16:51.310558Z"
    },
    "papermill": {
     "duration": 1.082701,
     "end_time": "2024-08-10T18:16:51.314588",
     "exception": false,
     "start_time": "2024-08-10T18:16:50.231887",
     "status": "completed"
    },
    "tags": []
   },
   "outputs": [
    {
     "name": "stdout",
     "output_type": "stream",
     "text": [
      "/kaggle/input/new-york-city-airbnb-open-data/AB_NYC_2019.csv\n",
      "/kaggle/input/new-york-city-airbnb-open-data/New_York_City_.png\n"
     ]
    }
   ],
   "source": [
    "# This Python 3 environment comes with many helpful analytics libraries installed\n",
    "# It is defined by the kaggle/python Docker image: https://github.com/kaggle/docker-python\n",
    "# For example, here's several helpful packages to load\n",
    "\n",
    "import numpy as np # linear algebra\n",
    "import pandas as pd # data processing, CSV file I/O (e.g. pd.read_csv)\n",
    "\n",
    "# Input data files are available in the read-only \"../input/\" directory\n",
    "# For example, running this (by clicking run or pressing Shift+Enter) will list all files under the input directory\n",
    "\n",
    "import os\n",
    "for dirname, _, filenames in os.walk('/kaggle/input'):\n",
    "    for filename in filenames:\n",
    "        print(os.path.join(dirname, filename))\n",
    "\n",
    "# You can write up to 20GB to the current directory (/kaggle/working/) that gets preserved as output when you create a version using \"Save & Run All\" \n",
    "# You can also write temporary files to /kaggle/temp/, but they won't be saved outside of the current session"
   ]
  },
  {
   "cell_type": "code",
   "execution_count": 2,
   "id": "a373b929",
   "metadata": {
    "execution": {
     "iopub.execute_input": "2024-08-10T18:16:51.328934Z",
     "iopub.status.busy": "2024-08-10T18:16:51.328374Z",
     "iopub.status.idle": "2024-08-10T18:16:52.784254Z",
     "shell.execute_reply": "2024-08-10T18:16:52.782890Z"
    },
    "papermill": {
     "duration": 1.466309,
     "end_time": "2024-08-10T18:16:52.787288",
     "exception": false,
     "start_time": "2024-08-10T18:16:51.320979",
     "status": "completed"
    },
    "tags": []
   },
   "outputs": [],
   "source": [
    "import pandas as pd\n",
    "import numpy as np\n",
    "import seaborn as sns\n",
    "import matplotlib.pyplot as plt\n",
    "from scipy import stats"
   ]
  },
  {
   "cell_type": "code",
   "execution_count": 3,
   "id": "a72bf0f4",
   "metadata": {
    "execution": {
     "iopub.execute_input": "2024-08-10T18:16:52.801063Z",
     "iopub.status.busy": "2024-08-10T18:16:52.800603Z",
     "iopub.status.idle": "2024-08-10T18:16:53.148638Z",
     "shell.execute_reply": "2024-08-10T18:16:53.147469Z"
    },
    "papermill": {
     "duration": 0.358307,
     "end_time": "2024-08-10T18:16:53.151579",
     "exception": false,
     "start_time": "2024-08-10T18:16:52.793272",
     "status": "completed"
    },
    "tags": []
   },
   "outputs": [],
   "source": [
    "#load the data\n",
    "airbnb_data=pd.read_csv('/kaggle/input/new-york-city-airbnb-open-data/AB_NYC_2019.csv')"
   ]
  },
  {
   "cell_type": "code",
   "execution_count": 4,
   "id": "3e8fd198",
   "metadata": {
    "execution": {
     "iopub.execute_input": "2024-08-10T18:16:53.164763Z",
     "iopub.status.busy": "2024-08-10T18:16:53.164315Z",
     "iopub.status.idle": "2024-08-10T18:16:53.173247Z",
     "shell.execute_reply": "2024-08-10T18:16:53.171982Z"
    },
    "papermill": {
     "duration": 0.019145,
     "end_time": "2024-08-10T18:16:53.176465",
     "exception": false,
     "start_time": "2024-08-10T18:16:53.157320",
     "status": "completed"
    },
    "tags": []
   },
   "outputs": [
    {
     "name": "stdout",
     "output_type": "stream",
     "text": [
      "id                                  int64\n",
      "name                               object\n",
      "host_id                             int64\n",
      "host_name                          object\n",
      "neighbourhood_group                object\n",
      "neighbourhood                      object\n",
      "latitude                          float64\n",
      "longitude                         float64\n",
      "room_type                          object\n",
      "price                               int64\n",
      "minimum_nights                      int64\n",
      "number_of_reviews                   int64\n",
      "last_review                        object\n",
      "reviews_per_month                 float64\n",
      "calculated_host_listings_count      int64\n",
      "availability_365                    int64\n",
      "dtype: object\n"
     ]
    }
   ],
   "source": [
    "# 1. Data Integrity Checks\n",
    "print(airbnb_data.dtypes)"
   ]
  },
  {
   "cell_type": "code",
   "execution_count": 5,
   "id": "1bc1ce2f",
   "metadata": {
    "execution": {
     "iopub.execute_input": "2024-08-10T18:16:53.189741Z",
     "iopub.status.busy": "2024-08-10T18:16:53.189251Z",
     "iopub.status.idle": "2024-08-10T18:16:53.255686Z",
     "shell.execute_reply": "2024-08-10T18:16:53.253636Z"
    },
    "papermill": {
     "duration": 0.076262,
     "end_time": "2024-08-10T18:16:53.258374",
     "exception": false,
     "start_time": "2024-08-10T18:16:53.182112",
     "status": "completed"
    },
    "tags": []
   },
   "outputs": [
    {
     "name": "stdout",
     "output_type": "stream",
     "text": [
      "                 id       host_id      latitude     longitude         price  \\\n",
      "count  4.889500e+04  4.889500e+04  48895.000000  48895.000000  48895.000000   \n",
      "mean   1.901714e+07  6.762001e+07     40.728949    -73.952170    152.720687   \n",
      "std    1.098311e+07  7.861097e+07      0.054530      0.046157    240.154170   \n",
      "min    2.539000e+03  2.438000e+03     40.499790    -74.244420      0.000000   \n",
      "25%    9.471945e+06  7.822033e+06     40.690100    -73.983070     69.000000   \n",
      "50%    1.967728e+07  3.079382e+07     40.723070    -73.955680    106.000000   \n",
      "75%    2.915218e+07  1.074344e+08     40.763115    -73.936275    175.000000   \n",
      "max    3.648724e+07  2.743213e+08     40.913060    -73.712990  10000.000000   \n",
      "\n",
      "       minimum_nights  number_of_reviews  reviews_per_month  \\\n",
      "count    48895.000000       48895.000000       38843.000000   \n",
      "mean         7.029962          23.274466           1.373221   \n",
      "std         20.510550          44.550582           1.680442   \n",
      "min          1.000000           0.000000           0.010000   \n",
      "25%          1.000000           1.000000           0.190000   \n",
      "50%          3.000000           5.000000           0.720000   \n",
      "75%          5.000000          24.000000           2.020000   \n",
      "max       1250.000000         629.000000          58.500000   \n",
      "\n",
      "       calculated_host_listings_count  availability_365  \n",
      "count                    48895.000000      48895.000000  \n",
      "mean                         7.143982        112.781327  \n",
      "std                         32.952519        131.622289  \n",
      "min                          1.000000          0.000000  \n",
      "25%                          1.000000          0.000000  \n",
      "50%                          1.000000         45.000000  \n",
      "75%                          2.000000        227.000000  \n",
      "max                        327.000000        365.000000  \n"
     ]
    }
   ],
   "source": [
    "print(airbnb_data.describe())"
   ]
  },
  {
   "cell_type": "code",
   "execution_count": 6,
   "id": "7678ba86",
   "metadata": {
    "execution": {
     "iopub.execute_input": "2024-08-10T18:16:53.272039Z",
     "iopub.status.busy": "2024-08-10T18:16:53.271573Z",
     "iopub.status.idle": "2024-08-10T18:16:53.313937Z",
     "shell.execute_reply": "2024-08-10T18:16:53.312488Z"
    },
    "papermill": {
     "duration": 0.052886,
     "end_time": "2024-08-10T18:16:53.317036",
     "exception": false,
     "start_time": "2024-08-10T18:16:53.264150",
     "status": "completed"
    },
    "tags": []
   },
   "outputs": [
    {
     "name": "stdout",
     "output_type": "stream",
     "text": [
      "id                                    0\n",
      "name                                 16\n",
      "host_id                               0\n",
      "host_name                            21\n",
      "neighbourhood_group                   0\n",
      "neighbourhood                         0\n",
      "latitude                              0\n",
      "longitude                             0\n",
      "room_type                             0\n",
      "price                                 0\n",
      "minimum_nights                        0\n",
      "number_of_reviews                     0\n",
      "last_review                       10052\n",
      "reviews_per_month                 10052\n",
      "calculated_host_listings_count        0\n",
      "availability_365                      0\n",
      "dtype: int64\n"
     ]
    }
   ],
   "source": [
    "# 2. Handling Missing Data\n",
    "missing_data=airbnb_data.isnull().sum()\n",
    "print (missing_data)"
   ]
  },
  {
   "cell_type": "code",
   "execution_count": 7,
   "id": "29b3b07a",
   "metadata": {
    "execution": {
     "iopub.execute_input": "2024-08-10T18:16:53.332259Z",
     "iopub.status.busy": "2024-08-10T18:16:53.331089Z",
     "iopub.status.idle": "2024-08-10T18:16:53.496425Z",
     "shell.execute_reply": "2024-08-10T18:16:53.495209Z"
    },
    "papermill": {
     "duration": 0.175765,
     "end_time": "2024-08-10T18:16:53.499114",
     "exception": false,
     "start_time": "2024-08-10T18:16:53.323349",
     "status": "completed"
    },
    "tags": []
   },
   "outputs": [
    {
     "name": "stdout",
     "output_type": "stream",
     "text": [
      "0\n"
     ]
    }
   ],
   "source": [
    "# 3. Removing Duplicates\n",
    "duplicates = airbnb_data.duplicated()\n",
    "print(duplicates.sum())\n",
    "airbnb_data = airbnb_data.drop_duplicates()"
   ]
  },
  {
   "cell_type": "code",
   "execution_count": 8,
   "id": "57e0f072",
   "metadata": {
    "execution": {
     "iopub.execute_input": "2024-08-10T18:16:53.513358Z",
     "iopub.status.busy": "2024-08-10T18:16:53.512895Z",
     "iopub.status.idle": "2024-08-10T18:16:53.521081Z",
     "shell.execute_reply": "2024-08-10T18:16:53.519969Z"
    },
    "papermill": {
     "duration": 0.018307,
     "end_time": "2024-08-10T18:16:53.523641",
     "exception": false,
     "start_time": "2024-08-10T18:16:53.505334",
     "status": "completed"
    },
    "tags": []
   },
   "outputs": [],
   "source": [
    "# 4.Standardization\n",
    "airbnb_data['price'] = airbnb_data['price'].replace('[\\$,]', '', regex=True).astype(float)"
   ]
  },
  {
   "cell_type": "code",
   "execution_count": 9,
   "id": "d84a2610",
   "metadata": {
    "execution": {
     "iopub.execute_input": "2024-08-10T18:16:53.537900Z",
     "iopub.status.busy": "2024-08-10T18:16:53.537538Z",
     "iopub.status.idle": "2024-08-10T18:16:53.764734Z",
     "shell.execute_reply": "2024-08-10T18:16:53.763532Z"
    },
    "papermill": {
     "duration": 0.237023,
     "end_time": "2024-08-10T18:16:53.767143",
     "exception": false,
     "start_time": "2024-08-10T18:16:53.530120",
     "status": "completed"
    },
    "tags": []
   },
   "outputs": [
    {
     "data": {
      "image/png": "[encoded data removed]",
      "text/plain": [
       "<Figure size 640x480 with 1 Axes>"
      ]
     },
     "metadata": {},
     "output_type": "display_data"
    }
   ],
   "source": [
    "# 5.outlier detection and handling\n",
    "sns.boxplot(x=airbnb_data['price'])\n",
    "plt.show()\n"
   ]
  },
  {
   "cell_type": "code",
   "execution_count": 10,
   "id": "8e334731",
   "metadata": {
    "execution": {
     "iopub.execute_input": "2024-08-10T18:16:53.782042Z",
     "iopub.status.busy": "2024-08-10T18:16:53.781601Z",
     "iopub.status.idle": "2024-08-10T18:16:53.803477Z",
     "shell.execute_reply": "2024-08-10T18:16:53.802254Z"
    },
    "papermill": {
     "duration": 0.03286,
     "end_time": "2024-08-10T18:16:53.806323",
     "exception": false,
     "start_time": "2024-08-10T18:16:53.773463",
     "status": "completed"
    },
    "tags": []
   },
   "outputs": [],
   "source": [
    "# z score method\n",
    "z_scores = stats.zscore(airbnb_data['price'])\n",
    "abs_z_scores = np.abs(z_scores)\n",
    "filtered_entries = (abs_z_scores < 3)\n",
    "airbnb_data = airbnb_data[filtered_entries]\n"
   ]
  },
  {
   "cell_type": "code",
   "execution_count": 11,
   "id": "34cd3b12",
   "metadata": {
    "execution": {
     "iopub.execute_input": "2024-08-10T18:16:53.820935Z",
     "iopub.status.busy": "2024-08-10T18:16:53.820480Z",
     "iopub.status.idle": "2024-08-10T18:16:53.827042Z",
     "shell.execute_reply": "2024-08-10T18:16:53.825705Z"
    },
    "papermill": {
     "duration": 0.017729,
     "end_time": "2024-08-10T18:16:53.830437",
     "exception": false,
     "start_time": "2024-08-10T18:16:53.812708",
     "status": "completed"
    },
    "tags": []
   },
   "outputs": [
    {
     "name": "stdout",
     "output_type": "stream",
     "text": [
      "Number of outliers detected: 48895\n"
     ]
    }
   ],
   "source": [
    "print(f\"Number of outliers detected: {len(filtered_entries)}\")"
   ]
  },
  {
   "cell_type": "code",
   "execution_count": 12,
   "id": "5cdea3a4",
   "metadata": {
    "execution": {
     "iopub.execute_input": "2024-08-10T18:16:53.846404Z",
     "iopub.status.busy": "2024-08-10T18:16:53.845238Z",
     "iopub.status.idle": "2024-08-10T18:16:53.870834Z",
     "shell.execute_reply": "2024-08-10T18:16:53.869638Z"
    },
    "papermill": {
     "duration": 0.036913,
     "end_time": "2024-08-10T18:16:53.873921",
     "exception": false,
     "start_time": "2024-08-10T18:16:53.837008",
     "status": "completed"
    },
    "tags": []
   },
   "outputs": [],
   "source": [
    "#IQR method\n",
    "Q1 = airbnb_data['price'].quantile(0.25)\n",
    "Q3 = airbnb_data['price'].quantile(0.75)\n",
    "IQR = Q3 - Q1\n",
    "outliers  = airbnb_data[((airbnb_data['price'] < (Q1 - 1.5 * IQR)) | (airbnb_data['price'] > (Q3 + 1.5 * IQR)))]\n",
    "filtered_data = airbnb_data[(airbnb_data['price'] >=(Q1 - 1.5 * IQR)) & (airbnb_data['price'] <= (Q3 + 1.5 * IQR))]"
   ]
  },
  {
   "cell_type": "code",
   "execution_count": 13,
   "id": "afb482a0",
   "metadata": {
    "execution": {
     "iopub.execute_input": "2024-08-10T18:16:53.890089Z",
     "iopub.status.busy": "2024-08-10T18:16:53.888992Z",
     "iopub.status.idle": "2024-08-10T18:16:53.895118Z",
     "shell.execute_reply": "2024-08-10T18:16:53.893824Z"
    },
    "papermill": {
     "duration": 0.017325,
     "end_time": "2024-08-10T18:16:53.898162",
     "exception": false,
     "start_time": "2024-08-10T18:16:53.880837",
     "status": "completed"
    },
    "tags": []
   },
   "outputs": [
    {
     "name": "stdout",
     "output_type": "stream",
     "text": [
      "Number of outliers detected: 2584\n"
     ]
    }
   ],
   "source": [
    "print(f\"Number of outliers detected: {len(outliers)}\")"
   ]
  },
  {
   "cell_type": "code",
   "execution_count": 14,
   "id": "3288bd8a",
   "metadata": {
    "execution": {
     "iopub.execute_input": "2024-08-10T18:16:53.912857Z",
     "iopub.status.busy": "2024-08-10T18:16:53.912432Z",
     "iopub.status.idle": "2024-08-10T18:16:54.254322Z",
     "shell.execute_reply": "2024-08-10T18:16:54.253102Z"
    },
    "papermill": {
     "duration": 0.352382,
     "end_time": "2024-08-10T18:16:54.256991",
     "exception": false,
     "start_time": "2024-08-10T18:16:53.904609",
     "status": "completed"
    },
    "tags": []
   },
   "outputs": [
    {
     "data": {
      "image/png": "[encoded data removed]",
      "text/plain": [
       "<Figure size 640x480 with 1 Axes>"
      ]
     },
     "metadata": {},
     "output_type": "display_data"
    }
   ],
   "source": [
    "sns.boxplot(x=airbnb_data['price'])\n",
    "plt.title(\"Box Plot for 'price' Column\")\n",
    "plt.show()"
   ]
  }
 ],
 "metadata": {
  "kaggle": {
   "accelerator": "none",
   "dataSources": [
    {
     "datasetId": 268833,
     "sourceId": 611395,
     "sourceType": "datasetVersion"
    }
   ],
   "dockerImageVersionId": 30746,
   "isGpuEnabled": false,
   "isInternetEnabled": false,
   "language": "python",
   "sourceType": "notebook"
  },
  "kernelspec": {
   "display_name": "Python 3",
   "language": "python",
   "name": "python3"
  },
  "language_info": {
   "codemirror_mode": {
    "name": "ipython",
    "version": 3
   },
   "file_extension": ".py",
   "mimetype": "text/x-python",
   "name": "python",
   "nbconvert_exporter": "python",
   "pygments_lexer": "ipython3",
   "version": "3.10.13"
  },
  "papermill": {
   "default_parameters": {},
   "duration": 8.104736,
   "end_time": "2024-08-10T18:16:55.087959",
   "environment_variables": {},
   "exception": null,
   "input_path": "__notebook__.ipynb",
   "output_path": "__notebook__.ipynb",
   "parameters": {},
   "start_time": "2024-08-10T18:16:46.983223",
   "version": "2.5.0"
  }
 },
 "nbformat": 4,
 "nbformat_minor": 5
}
